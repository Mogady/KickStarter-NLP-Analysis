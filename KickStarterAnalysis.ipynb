{
 "cells": [
  {
   "cell_type": "markdown",
   "metadata": {
    "_uuid": "c9f40d255e943a2d9fe538fdfd71298b484955a9"
   },
   "source": [
    "## Introduction:\n",
    "\n",
    "> Kickstarter is an American public-benefit corporation[2] based in Brooklyn, New York, that maintains a global crowdfunding platform focused on creativity and merchandising.[3] The company's stated mission is to \"help bring creative projects to life\".[4] Kickstarter has reportedly received more than $1.9 billion in pledges from 9.4 million backers to fund 257,000 creative projects, such as films, music, stage shows, comics, journalism, video games, technology and food-related projects.[5]\n",
    "People who back Kickstarter projects are offered tangible rewards or experiences in exchange for their pledges.[6] This model traces its roots to subscription model of arts patronage, where artists would go directly to their audiences to fund their work.[7][Wikipedia](https://en.wikipedia.org/wiki/Kickstarter)\n",
    "\n",
    "So, with the help of the crawlers of [webrobots](https://webrobots.io/kickstarter-datasets/), we got all the data from the run along 2017 kickstater projects and keep just those written in english and finished either as \"successful\" or \"failed\", and two columns:\n",
    "\n",
    "- the one with the blurb or short description of the project [text]\n",
    "- the one with the final state: \"successful\" if the project got the money goal in time or \"failed\" if don't [factor]\n",
    "\n"
   ]
  },
  {
   "cell_type": "markdown",
   "metadata": {
    "_uuid": "c00980fef6b428da8e16c68af312c593aa46ded5"
   },
   "source": [
    "## Getting and preprocessing data:"
   ]
  },
  {
   "cell_type": "code",
   "execution_count": 3,
   "metadata": {
    "_cell_guid": "b1076dfc-b9ad-4769-8c92-a6c4dae69d19",
    "_uuid": "8f2839f25d086af736a60e9eeb907d3b93b6e0e5"
   },
   "outputs": [
    {
     "data": {
      "text/html": [
       "<div>\n",
       "<style scoped>\n",
       "    .dataframe tbody tr th:only-of-type {\n",
       "        vertical-align: middle;\n",
       "    }\n",
       "\n",
       "    .dataframe tbody tr th {\n",
       "        vertical-align: top;\n",
       "    }\n",
       "\n",
       "    .dataframe thead th {\n",
       "        text-align: right;\n",
       "    }\n",
       "</style>\n",
       "<table border=\"1\" class=\"dataframe\">\n",
       "  <thead>\n",
       "    <tr style=\"text-align: right;\">\n",
       "      <th></th>\n",
       "      <th>Unnamed: 0</th>\n",
       "      <th>blurb</th>\n",
       "      <th>state</th>\n",
       "    </tr>\n",
       "  </thead>\n",
       "  <tbody>\n",
       "    <tr>\n",
       "      <th>0</th>\n",
       "      <td>1</td>\n",
       "      <td>Using their own character, users go on educati...</td>\n",
       "      <td>failed</td>\n",
       "    </tr>\n",
       "    <tr>\n",
       "      <th>1</th>\n",
       "      <td>2</td>\n",
       "      <td>MicroFly is a quadcopter packed with WiFi, 6 s...</td>\n",
       "      <td>successful</td>\n",
       "    </tr>\n",
       "    <tr>\n",
       "      <th>2</th>\n",
       "      <td>3</td>\n",
       "      <td>A small indie press, run as a collective for a...</td>\n",
       "      <td>failed</td>\n",
       "    </tr>\n",
       "    <tr>\n",
       "      <th>3</th>\n",
       "      <td>4</td>\n",
       "      <td>Zylor is a new baby cosplayer! Back this kicks...</td>\n",
       "      <td>failed</td>\n",
       "    </tr>\n",
       "    <tr>\n",
       "      <th>4</th>\n",
       "      <td>5</td>\n",
       "      <td>Hatoful Boyfriend meet Skeletons! A comedy Dat...</td>\n",
       "      <td>failed</td>\n",
       "    </tr>\n",
       "  </tbody>\n",
       "</table>\n",
       "</div>"
      ],
      "text/plain": [
       "   Unnamed: 0                                              blurb       state\n",
       "0           1  Using their own character, users go on educati...      failed\n",
       "1           2  MicroFly is a quadcopter packed with WiFi, 6 s...  successful\n",
       "2           3  A small indie press, run as a collective for a...      failed\n",
       "3           4  Zylor is a new baby cosplayer! Back this kicks...      failed\n",
       "4           5  Hatoful Boyfriend meet Skeletons! A comedy Dat...      failed"
      ]
     },
     "execution_count": 3,
     "metadata": {},
     "output_type": "execute_result"
    }
   ],
   "source": [
    "import pandas as pd\n",
    "import numpy as np\n",
    "data = pd.read_csv(\"data.csv\")\n",
    "data.head()"
   ]
  },
  {
   "cell_type": "markdown",
   "metadata": {
    "_uuid": "ca0dd1edf7f52941ad775d5fedaa095b5a44d9b1"
   },
   "source": [
    "Here we organize the dataframe more and make colum for mapping the {'successful':1,'failed':0}"
   ]
  },
  {
   "cell_type": "code",
   "execution_count": 4,
   "metadata": {
    "_cell_guid": "79c7e3d0-c299-4dcb-8224-4455121ee9b0",
    "_uuid": "d629ff2d2480ee46fbb7e2d37f6b5fab8052498a"
   },
   "outputs": [
    {
     "data": {
      "text/html": [
       "<div>\n",
       "<style scoped>\n",
       "    .dataframe tbody tr th:only-of-type {\n",
       "        vertical-align: middle;\n",
       "    }\n",
       "\n",
       "    .dataframe tbody tr th {\n",
       "        vertical-align: top;\n",
       "    }\n",
       "\n",
       "    .dataframe thead th {\n",
       "        text-align: right;\n",
       "    }\n",
       "</style>\n",
       "<table border=\"1\" class=\"dataframe\">\n",
       "  <thead>\n",
       "    <tr style=\"text-align: right;\">\n",
       "      <th></th>\n",
       "      <th>blurb</th>\n",
       "      <th>state</th>\n",
       "      <th>state_id</th>\n",
       "    </tr>\n",
       "  </thead>\n",
       "  <tbody>\n",
       "    <tr>\n",
       "      <th>0</th>\n",
       "      <td>Using their own character, users go on educati...</td>\n",
       "      <td>failed</td>\n",
       "      <td>0</td>\n",
       "    </tr>\n",
       "    <tr>\n",
       "      <th>1</th>\n",
       "      <td>MicroFly is a quadcopter packed with WiFi, 6 s...</td>\n",
       "      <td>successful</td>\n",
       "      <td>1</td>\n",
       "    </tr>\n",
       "    <tr>\n",
       "      <th>2</th>\n",
       "      <td>A small indie press, run as a collective for a...</td>\n",
       "      <td>failed</td>\n",
       "      <td>0</td>\n",
       "    </tr>\n",
       "    <tr>\n",
       "      <th>3</th>\n",
       "      <td>Zylor is a new baby cosplayer! Back this kicks...</td>\n",
       "      <td>failed</td>\n",
       "      <td>0</td>\n",
       "    </tr>\n",
       "    <tr>\n",
       "      <th>4</th>\n",
       "      <td>Hatoful Boyfriend meet Skeletons! A comedy Dat...</td>\n",
       "      <td>failed</td>\n",
       "      <td>0</td>\n",
       "    </tr>\n",
       "  </tbody>\n",
       "</table>\n",
       "</div>"
      ],
      "text/plain": [
       "                                               blurb       state  state_id\n",
       "0  Using their own character, users go on educati...      failed         0\n",
       "1  MicroFly is a quadcopter packed with WiFi, 6 s...  successful         1\n",
       "2  A small indie press, run as a collective for a...      failed         0\n",
       "3  Zylor is a new baby cosplayer! Back this kicks...      failed         0\n",
       "4  Hatoful Boyfriend meet Skeletons! A comedy Dat...      failed         0"
      ]
     },
     "execution_count": 4,
     "metadata": {},
     "output_type": "execute_result"
    }
   ],
   "source": [
    "del data['Unnamed: 0'] \n",
    "from io import StringIO\n",
    "data['state_id'] = data['state'].factorize()[0]\n",
    "state_id_df = data[['state', 'state_id']].drop_duplicates().sort_values('state_id')\n",
    "state_to_id = dict(state_id_df.values)\n",
    "id_to_state = dict(state_id_df[['state_id', 'state']].values)\n",
    "data.head()"
   ]
  },
  {
   "cell_type": "markdown",
   "metadata": {
    "_uuid": "54f49806db7afba8bf33e0b23df0f537a7b466b0"
   },
   "source": [
    "I want to check if there is impalanced class "
   ]
  },
  {
   "cell_type": "code",
   "execution_count": 5,
   "metadata": {
    "_uuid": "a6fcf593047f0123270564b4bfd0fadfbc09be74"
   },
   "outputs": [
    {
     "data": {
      "image/png": "[encoded data removed]",
      "text/plain": [
       "<matplotlib.figure.Figure at 0x7fe3be202dd8>"
      ]
     },
     "metadata": {},
     "output_type": "display_data"
    }
   ],
   "source": [
    "import matplotlib.pyplot as plt\n",
    "fig = plt.figure(figsize=(8,6))\n",
    "data.groupby('state').blurb.count().plot.bar(ylim=0)\n",
    "plt.show()"
   ]
  },
  {
   "cell_type": "markdown",
   "metadata": {
    "_uuid": "81ca59c78466cd4b70af92ef97a41e1c57861fd1",
    "collapsed": true
   },
   "source": [
    "seems that there is no problem here"
   ]
  },
  {
   "cell_type": "markdown",
   "metadata": {
    "_uuid": "81ab40ff8a1649494f0fe881b95cff658f94491e"
   },
   "source": [
    "Now lets clean the text for training , i see no need to delete the stopwords so i will just remove punctuations"
   ]
  },
  {
   "cell_type": "code",
   "execution_count": 6,
   "metadata": {
    "_uuid": "c61d33ecc4435ac6eb6465889d92b8448d2a3b43",
    "collapsed": true
   },
   "outputs": [],
   "source": [
    "import re\n",
    "def clean(text):\n",
    "    text = str(text)\n",
    "    text = re.findall(r'\\w+', text)\n",
    "    return ' '.join(text)\n",
    "data['blurb'] = data['blurb'].apply(lambda x: clean(x))"
   ]
  },
  {
   "cell_type": "markdown",
   "metadata": {
    "_uuid": "d4ecccc910d2cce8c9f30de8307dfe1f9c87c7fb"
   },
   "source": [
    "## Text Representation"
   ]
  },
  {
   "cell_type": "markdown",
   "metadata": {
    "_uuid": "278187c272d4781ac08c1a463621ec85cdd3b9a2"
   },
   "source": [
    "Now for text representation i will use tfidf model"
   ]
  },
  {
   "cell_type": "code",
   "execution_count": 7,
   "metadata": {
    "_uuid": "8efa1707784d279d086d522ae0a2a8fd1828ab03"
   },
   "outputs": [
    {
     "name": "stderr",
     "output_type": "stream",
     "text": [
      "/home/mogady/anaconda3/lib/python3.6/site-packages/sklearn/model_selection/_split.py:2026: FutureWarning: From version 0.21, test_size will always complement train_size unless both are specified.\n",
      "  FutureWarning)\n"
     ]
    }
   ],
   "source": [
    "from sklearn.model_selection import train_test_split\n",
    "from sklearn.feature_extraction.text import TfidfVectorizer\n",
    "x_train, x_test, y_train, y_test = train_test_split(data['blurb'], data['state'], train_size=0.8)\n",
    "vectorizer = TfidfVectorizer().fit(x_train)\n",
    "x_train_v = vectorizer.transform(x_train)\n",
    "x_test_v  = vectorizer.transform(x_test)"
   ]
  },
  {
   "cell_type": "markdown",
   "metadata": {
    "_uuid": "21eb00b46216af28f0dfca143fe0845e23486f03"
   },
   "source": [
    "## Training "
   ]
  },
  {
   "cell_type": "markdown",
   "metadata": {
    "_uuid": "8e3ea123142a759f83484e5863cb1ff3aa1b3b2c"
   },
   "source": [
    "I will try multiple algorthims and see what gives better accuracy"
   ]
  },
  {
   "cell_type": "code",
   "execution_count": 8,
   "metadata": {
    "_uuid": "b99e0057ea0f6d0733fe77e8d97529dc30fe9794",
    "collapsed": true
   },
   "outputs": [],
   "source": [
    "from sklearn.linear_model import LogisticRegression, SGDClassifier\n",
    "from sklearn.svm import LinearSVC\n",
    "from sklearn.metrics import classification_report\n",
    "from sklearn.naive_bayes import MultinomialNB\n",
    "from sklearn.metrics import accuracy_score\n",
    "from time import time\n",
    "entries = []\n",
    "def train():\n",
    "    models = {\n",
    "        \"LogisticRegression\": LogisticRegression(),\n",
    "        \"SGDClassifier\": SGDClassifier(),\n",
    "        \"Multinomial\":MultinomialNB(),\n",
    "        \"LinearSVC\": LinearSVC(),\n",
    "    }\n",
    "    for model in models:\n",
    "        print(\"training model\"+model)\n",
    "        start = time()\n",
    "        models[model].fit(x_train_v, y_train)\n",
    "        end = time()\n",
    "        print(\"trained in {} secs\".format(end-start))\n",
    "        y_pred = models[model].predict(x_test_v)\n",
    "        entries.append((model,accuracy_score(y_test, y_pred)))"
   ]
  },
  {
   "cell_type": "code",
   "execution_count": 9,
   "metadata": {
    "_uuid": "3ee003a23b6b23ec642a61ab66cdc86c1c976b98"
   },
   "outputs": [
    {
     "name": "stdout",
     "output_type": "stream",
     "text": [
      "training modelLogisticRegression\n",
      "trained in 2.3976640701293945 secs\n",
      "training modelSGDClassifier\n"
     ]
    },
    {
     "name": "stderr",
     "output_type": "stream",
     "text": [
      "/home/mogady/anaconda3/lib/python3.6/site-packages/sklearn/linear_model/stochastic_gradient.py:128: FutureWarning: max_iter and tol parameters have been added in <class 'sklearn.linear_model.stochastic_gradient.SGDClassifier'> in 0.19. If both are left unset, they default to max_iter=5 and tol=None. If tol is not None, max_iter defaults to max_iter=1000. From 0.21, default max_iter will be 1000, and default tol will be 1e-3.\n",
      "  \"and default tol will be 1e-3.\" % type(self), FutureWarning)\n"
     ]
    },
    {
     "name": "stdout",
     "output_type": "stream",
     "text": [
      "trained in 0.3780059814453125 secs\n",
      "training modelMultinomial\n",
      "trained in 0.5360188484191895 secs\n",
      "training modelLinearSVC\n",
      "trained in 3.069472074508667 secs\n"
     ]
    }
   ],
   "source": [
    "train()"
   ]
  },
  {
   "cell_type": "markdown",
   "metadata": {
    "_uuid": "c916b8d375337b68bab9dedce2b6e078226ea82b"
   },
   "source": [
    "#### lets Visualize the accuracies"
   ]
  },
  {
   "cell_type": "code",
   "execution_count": 10,
   "metadata": {
    "_uuid": "62459b5e0acea795b845a1f1324f9234b9138eab"
   },
   "outputs": [
    {
     "name": "stderr",
     "output_type": "stream",
     "text": [
      "/home/mogady/anaconda3/lib/python3.6/site-packages/seaborn/categorical.py:454: FutureWarning: remove_na is deprecated and is a private function. Do not use.\n",
      "  box_data = remove_na(group_data)\n"
     ]
    },
    {
     "data": {
      "image/png": "[encoded data removed]",
      "text/plain": [
       "<matplotlib.figure.Figure at 0x7fe3bdfe2f60>"
      ]
     },
     "metadata": {},
     "output_type": "display_data"
    }
   ],
   "source": [
    "cv_df = pd.DataFrame(entries, columns=['model_name','accuracy'])\n",
    "import seaborn as sns\n",
    "sns.boxplot(x='model_name', y='accuracy', data=cv_df)\n",
    "sns.stripplot(x='model_name', y='accuracy', data=cv_df, \n",
    "              size=8, jitter=True, edgecolor=\"gray\", linewidth=2)\n",
    "plt.show()"
   ]
  },
  {
   "cell_type": "markdown",
   "metadata": {
    "_uuid": "61a955feb8b863da46c087f39abf90bf3645e6f0"
   },
   "source": [
    "Ok,it seems that LogisticRegression did the job."
   ]
  },
  {
   "cell_type": "markdown",
   "metadata": {
    "_uuid": "f3279835345575cf4aabbf9fb98a314d098564d7"
   },
   "source": [
    "## Evaluation:\n",
    "now lets look at the confusion matrix, and show the discrepancies between predicted and actual labels."
   ]
  },
  {
   "cell_type": "code",
   "execution_count": 11,
   "metadata": {
    "_uuid": "2fb642d5853309d32241dd71ba926ee2e3aad6c4"
   },
   "outputs": [
    {
     "data": {
      "image/png": "[encoded data removed]",
      "text/plain": [
       "<matplotlib.figure.Figure at 0x7fe3c1900710>"
      ]
     },
     "metadata": {},
     "output_type": "display_data"
    }
   ],
   "source": [
    "model = LogisticRegression()\n",
    "model.fit(x_train_v, y_train)\n",
    "y_pred = model.predict(x_test_v)\n",
    "from sklearn.metrics import confusion_matrix\n",
    "\n",
    "conf_mat = confusion_matrix(y_test, y_pred)\n",
    "fig, ax = plt.subplots(figsize=(10,10))\n",
    "sns.heatmap(conf_mat, annot=True, fmt='d',\n",
    "            xticklabels=state_id_df.state.values, yticklabels=state_id_df.state.values)\n",
    "plt.ylabel('Actual')\n",
    "plt.xlabel('Predicted')\n",
    "plt.show()"
   ]
  },
  {
   "cell_type": "code",
   "execution_count": 12,
   "metadata": {
    "_uuid": "ce7b0ad2fd839dc32487d95306f2bbbd842a2876"
   },
   "outputs": [
    {
     "name": "stdout",
     "output_type": "stream",
     "text": [
      "             precision    recall  f1-score   support\n",
      "\n",
      "     failed       0.67      0.67      0.67     21409\n",
      " successful       0.68      0.68      0.68     21694\n",
      "\n",
      "avg / total       0.68      0.68      0.68     43103\n",
      "\n"
     ]
    }
   ],
   "source": [
    "print(classification_report(y_test, y_pred))"
   ]
  }
 ],
 "metadata": {
  "kernelspec": {
   "display_name": "Python 3",
   "language": "python",
   "name": "python3"
  },
  "language_info": {
   "codemirror_mode": {
    "name": "ipython",
    "version": 3
   },
   "file_extension": ".py",
   "mimetype": "text/x-python",
   "name": "python",
   "nbconvert_exporter": "python",
   "pygments_lexer": "ipython3",
   "version": "3.6.1"
  }
 },
 "nbformat": 4,
 "nbformat_minor": 1
}
